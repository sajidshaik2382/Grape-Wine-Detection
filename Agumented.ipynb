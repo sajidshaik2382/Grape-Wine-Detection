{
 "cells": [
  {
   "cell_type": "code",
   "execution_count": 1,
   "metadata": {},
   "outputs": [],
   "source": [
    "import os"
   ]
  },
  {
   "cell_type": "code",
   "execution_count": 2,
   "metadata": {},
   "outputs": [],
   "source": [
    "dataset_path= 'C:/Users/sajid/ANISA/Deep learning projects\\Grape wine Detection/agumentation/'"
   ]
  },
  {
   "cell_type": "code",
   "execution_count": 3,
   "metadata": {},
   "outputs": [],
   "source": [
    "num_healthy_images = len(os.listdir(os.path.join(dataset_path, 'healthy')))\n",
    "num_rust_images = len(os.listdir(os.path.join(dataset_path, 'rust')))"
   ]
  },
  {
   "cell_type": "code",
   "execution_count": 4,
   "metadata": {},
   "outputs": [
    {
     "name": "stdout",
     "output_type": "stream",
     "text": [
      "Number of healthy images: 882\n",
      "Number of rust images: 888\n"
     ]
    }
   ],
   "source": [
    "print(\"Number of healthy images:\", num_healthy_images)\n",
    "print(\"Number of rust images:\", num_rust_images)"
   ]
  },
  {
   "cell_type": "code",
   "execution_count": null,
   "metadata": {},
   "outputs": [],
   "source": [
    "from tensorflow.keras.preprocessing.image import ImageDataGenerator, load_img, save_img, img_to_array\n",
    "import os\n",
    "\n",
    "healthy_path = 'C:/Users/sajid/ANISA\\Deep learning projects/Grape wine Detection/agumentation/healthy'\n",
    "rust_path = 'C:/Users/sajid/ANISA/Deep learning projects/Grape wine Detection/agumentation/rust'\n",
    "\n",
    "augmented_path = 'C:/Users/sajid/ANISA/Deep learning projects\\Grape wine Detection/agumentation/'\n",
    "\n",
    "datagen = ImageDataGenerator(\n",
    "    rotation_range=20,\n",
    "    width_shift_range=0.2,\n",
    "    height_shift_range=0.2,\n",
    "    shear_range=0.2,\n",
    "    zoom_range=0.2,\n",
    "    horizontal_flip=True,\n",
    "    vertical_flip=True,\n",
    "    brightness_range=(0.8, 1.2),\n",
    "    fill_mode='nearest'  \n",
    ")\n",
    "\n",
    "healthy_images = os.listdir(healthy_path)\n",
    "rust_images = os.listdir(rust_path)\n",
    "\n",
    "for img_name in healthy_images:\n",
    "    img_path = os.path.join(healthy_path, img_name)\n",
    "    img = load_img(img_path)  \n",
    "    img_array = img_to_array(img) \n",
    "    img_array = datagen.random_transform(img_array)  \n",
    "    img = datagen.standardize(img_array)  \n",
    "    save_path = os.path.join(augmented_path, 'healthy', 'aug_' + img_name)\n",
    "    save_img(save_path, img)\n",
    "\n",
    "for img_name in rust_images:\n",
    "    img_path = os.path.join(rust_path, img_name)\n",
    "    img = load_img(img_path)  \n",
    "    img_array = img_to_array(img)  \n",
    "    img_array = datagen.random_transform(img_array) \n",
    "    img = datagen.standardize(img_array)  \n",
    "    save_path = os.path.join(augmented_path, 'rust', 'aug_' + img_name)\n",
    "    save_img(save_path, img)"
   ]
  },
  {
   "cell_type": "code",
   "execution_count": null,
   "metadata": {},
   "outputs": [],
   "source": []
  }
 ],
 "metadata": {
  "kernelspec": {
   "display_name": "Python 3",
   "language": "python",
   "name": "python3"
  },
  "language_info": {
   "codemirror_mode": {
    "name": "ipython",
    "version": 3
   },
   "file_extension": ".py",
   "mimetype": "text/x-python",
   "name": "python",
   "nbconvert_exporter": "python",
   "pygments_lexer": "ipython3",
   "version": "3.8.5"
  }
 },
 "nbformat": 4,
 "nbformat_minor": 5
}
